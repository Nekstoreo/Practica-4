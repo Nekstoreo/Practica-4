{
 "cells": [
  {
   "cell_type": "markdown",
   "id": "5396ea3f",
   "metadata": {},
   "source": [
    "# CALIDAD DE DATOS\n",
    "## Dataset: Water Potability"
   ]
  },
  {
   "cell_type": "code",
   "execution_count": 3,
   "id": "70c8c33d",
   "metadata": {},
   "outputs": [],
   "source": [
    "import pandas as pd\n",
    "import numpy as np\n",
    "import matplotlib.pyplot as plt\n",
    "import seaborn as sns\n",
    "from ydata_profiling import ProfileReport\n",
    "from sklearn.impute import SimpleImputer\n",
    "from scipy.stats.mstats import winsorize\n",
    "from sklearn.preprocessing import StandardScaler\n",
    "import warnings\n",
    "warnings.filterwarnings('ignore')"
   ]
  },
  {
   "cell_type": "code",
   "execution_count": 4,
   "id": "46b7efe7",
   "metadata": {},
   "outputs": [
    {
     "data": {
      "text/html": [
       "<div>\n",
       "<style scoped>\n",
       "    .dataframe tbody tr th:only-of-type {\n",
       "        vertical-align: middle;\n",
       "    }\n",
       "\n",
       "    .dataframe tbody tr th {\n",
       "        vertical-align: top;\n",
       "    }\n",
       "\n",
       "    .dataframe thead th {\n",
       "        text-align: right;\n",
       "    }\n",
       "</style>\n",
       "<table border=\"1\" class=\"dataframe\">\n",
       "  <thead>\n",
       "    <tr style=\"text-align: right;\">\n",
       "      <th></th>\n",
       "      <th>ph</th>\n",
       "      <th>Hardness</th>\n",
       "      <th>Solids</th>\n",
       "      <th>Chloramines</th>\n",
       "      <th>Sulfate</th>\n",
       "      <th>Conductivity</th>\n",
       "      <th>Organic_carbon</th>\n",
       "      <th>Trihalomethanes</th>\n",
       "      <th>Turbidity</th>\n",
       "      <th>Potability</th>\n",
       "    </tr>\n",
       "  </thead>\n",
       "  <tbody>\n",
       "    <tr>\n",
       "      <th>0</th>\n",
       "      <td>NaN</td>\n",
       "      <td>204.890455</td>\n",
       "      <td>20791.318981</td>\n",
       "      <td>7.300212</td>\n",
       "      <td>368.516441</td>\n",
       "      <td>564.308654</td>\n",
       "      <td>10.379783</td>\n",
       "      <td>86.990970</td>\n",
       "      <td>2.963135</td>\n",
       "      <td>0</td>\n",
       "    </tr>\n",
       "    <tr>\n",
       "      <th>1</th>\n",
       "      <td>3.716080</td>\n",
       "      <td>129.422921</td>\n",
       "      <td>18630.057858</td>\n",
       "      <td>6.635246</td>\n",
       "      <td>NaN</td>\n",
       "      <td>592.885359</td>\n",
       "      <td>15.180013</td>\n",
       "      <td>56.329076</td>\n",
       "      <td>4.500656</td>\n",
       "      <td>0</td>\n",
       "    </tr>\n",
       "    <tr>\n",
       "      <th>2</th>\n",
       "      <td>8.099124</td>\n",
       "      <td>224.236259</td>\n",
       "      <td>19909.541732</td>\n",
       "      <td>9.275884</td>\n",
       "      <td>NaN</td>\n",
       "      <td>418.606213</td>\n",
       "      <td>16.868637</td>\n",
       "      <td>66.420093</td>\n",
       "      <td>3.055934</td>\n",
       "      <td>0</td>\n",
       "    </tr>\n",
       "    <tr>\n",
       "      <th>3</th>\n",
       "      <td>8.316766</td>\n",
       "      <td>214.373394</td>\n",
       "      <td>22018.417441</td>\n",
       "      <td>8.059332</td>\n",
       "      <td>356.886136</td>\n",
       "      <td>363.266516</td>\n",
       "      <td>18.436524</td>\n",
       "      <td>100.341674</td>\n",
       "      <td>4.628771</td>\n",
       "      <td>0</td>\n",
       "    </tr>\n",
       "    <tr>\n",
       "      <th>4</th>\n",
       "      <td>9.092223</td>\n",
       "      <td>181.101509</td>\n",
       "      <td>17978.986339</td>\n",
       "      <td>6.546600</td>\n",
       "      <td>310.135738</td>\n",
       "      <td>398.410813</td>\n",
       "      <td>11.558279</td>\n",
       "      <td>31.997993</td>\n",
       "      <td>4.075075</td>\n",
       "      <td>0</td>\n",
       "    </tr>\n",
       "  </tbody>\n",
       "</table>\n",
       "</div>"
      ],
      "text/plain": [
       "         ph    Hardness        Solids  Chloramines     Sulfate  Conductivity  \\\n",
       "0       NaN  204.890455  20791.318981     7.300212  368.516441    564.308654   \n",
       "1  3.716080  129.422921  18630.057858     6.635246         NaN    592.885359   \n",
       "2  8.099124  224.236259  19909.541732     9.275884         NaN    418.606213   \n",
       "3  8.316766  214.373394  22018.417441     8.059332  356.886136    363.266516   \n",
       "4  9.092223  181.101509  17978.986339     6.546600  310.135738    398.410813   \n",
       "\n",
       "   Organic_carbon  Trihalomethanes  Turbidity  Potability  \n",
       "0       10.379783        86.990970   2.963135           0  \n",
       "1       15.180013        56.329076   4.500656           0  \n",
       "2       16.868637        66.420093   3.055934           0  \n",
       "3       18.436524       100.341674   4.628771           0  \n",
       "4       11.558279        31.997993   4.075075           0  "
      ]
     },
     "execution_count": 4,
     "metadata": {},
     "output_type": "execute_result"
    }
   ],
   "source": [
    "df = pd.read_csv('water_potability.csv')\n",
    "df.head()"
   ]
  },
  {
   "cell_type": "code",
   "execution_count": 5,
   "id": "f51bc48b",
   "metadata": {},
   "outputs": [
    {
     "name": "stdout",
     "output_type": "stream",
     "text": [
      "<class 'pandas.core.frame.DataFrame'>\n",
      "RangeIndex: 3276 entries, 0 to 3275\n",
      "Data columns (total 10 columns):\n",
      " #   Column           Non-Null Count  Dtype  \n",
      "---  ------           --------------  -----  \n",
      " 0   ph               2785 non-null   float64\n",
      " 1   Hardness         3276 non-null   float64\n",
      " 2   Solids           3276 non-null   float64\n",
      " 3   Chloramines      3276 non-null   float64\n",
      " 4   Sulfate          2495 non-null   float64\n",
      " 5   Conductivity     3276 non-null   float64\n",
      " 6   Organic_carbon   3276 non-null   float64\n",
      " 7   Trihalomethanes  3114 non-null   float64\n",
      " 8   Turbidity        3276 non-null   float64\n",
      " 9   Potability       3276 non-null   int64  \n",
      "dtypes: float64(9), int64(1)\n",
      "memory usage: 256.1 KB\n"
     ]
    }
   ],
   "source": [
    "df.info()"
   ]
  },
  {
   "cell_type": "markdown",
   "id": "fffb7a70",
   "metadata": {},
   "source": [
    "# A. PERFILADO DE DATOS"
   ]
  },
  {
   "cell_type": "code",
   "execution_count": 6,
   "id": "d4d4b83e",
   "metadata": {},
   "outputs": [
    {
     "name": "stderr",
     "output_type": "stream",
     "text": [
      "100%|██████████| 10/10 [00:00<00:00, 111.08it/s]00:00, 72.64it/s, Describe variable: Potability]     \n",
      "Summarize dataset: 100%|██████████| 101/101 [00:07<00:00, 13.02it/s, Completed]                             \n",
      "Generate report structure: 100%|██████████| 1/1 [00:02<00:00,  2.43s/it]\n",
      "Render HTML: 100%|██████████| 1/1 [00:00<00:00,  2.46it/s]\n",
      "Export report to file: 100%|██████████| 1/1 [00:00<00:00, 65.34it/s]\n"
     ]
    }
   ],
   "source": [
    "profile = ProfileReport(df, title=\"Water Potability - Data Quality Report\")\n",
    "profile.to_file(\"water_potability_profiling_report.html\")"
   ]
  },
  {
   "cell_type": "markdown",
   "id": "cc59b074",
   "metadata": {},
   "source": [
    "# B. DIAGNÓSTICO DE CALIDAD DE DATOS\n",
    "\n",
    "**Dimensiones a evaluar:**\n",
    "- **Completitud:** ¿Hay datos faltantes?\n",
    "- **Validez:** ¿Los valores están en rangos válidos?\n",
    "- **Precisión:** ¿Existen outliers?\n",
    "- **Consistencia:** ¿Las correlaciones son lógicas?\n",
    "- **Unicidad:** ¿Existen duplicados?"
   ]
  },
  {
   "cell_type": "code",
   "execution_count": 7,
   "id": "785f86c0",
   "metadata": {},
   "outputs": [
    {
     "name": "stdout",
     "output_type": "stream",
     "text": [
      "Valores faltantes por variable:\n",
      "                 Faltantes  Porcentaje (%)\n",
      "ph                     491       14.987790\n",
      "Sulfate                781       23.840049\n",
      "Trihalomethanes        162        4.945055\n"
     ]
    }
   ],
   "source": [
    "# 1. Completitud - Valores faltantes\n",
    "missing_values = df.isnull().sum()\n",
    "missing_percentage = (missing_values / len(df)) * 100\n",
    "print(\"Valores faltantes por variable:\")\n",
    "print(pd.DataFrame({'Faltantes': missing_values, 'Porcentaje (%)': missing_percentage})[missing_values > 0])"
   ]
  },
  {
   "cell_type": "code",
   "execution_count": 8,
   "id": "d3d8153e",
   "metadata": {},
   "outputs": [
    {
     "name": "stdout",
     "output_type": "stream",
     "text": [
      "Valores negativos por variable:\n",
      "  ph: 0\n",
      "  Hardness: 0\n",
      "  Solids: 0\n",
      "  Chloramines: 0\n",
      "  Sulfate: 0\n",
      "  Conductivity: 0\n",
      "  Organic_carbon: 0\n",
      "  Trihalomethanes: 0\n",
      "  Turbidity: 0\n",
      "  Potability: 0\n"
     ]
    }
   ],
   "source": [
    "# 2. Validez - Rangos esperados y valores negativos\n",
    "print(\"Valores negativos por variable:\")\n",
    "for col in df.select_dtypes(include=[np.number]).columns:\n",
    "    negative_count = (df[col] < 0).sum()\n",
    "    if negative_count > 0:\n",
    "        print(f\"  {col}: {negative_count}\")\n",
    "    else:\n",
    "        print(f\"  {col}: 0\")"
   ]
  },
  {
   "cell_type": "code",
   "execution_count": 9,
   "id": "818ebce9",
   "metadata": {},
   "outputs": [
    {
     "name": "stdout",
     "output_type": "stream",
     "text": [
      "Outliers detectados por variable:\n",
      "  ph: 46 (1.65%)\n",
      "  Hardness: 83 (2.53%)\n",
      "  Solids: 47 (1.43%)\n",
      "  Chloramines: 61 (1.86%)\n",
      "  Sulfate: 41 (1.64%)\n",
      "  Conductivity: 11 (0.34%)\n",
      "  Organic_carbon: 25 (0.76%)\n",
      "  Trihalomethanes: 33 (1.06%)\n",
      "  Turbidity: 19 (0.58%)\n"
     ]
    }
   ],
   "source": [
    "# 3. Precisión - Outliers por método IQR\n",
    "def detect_outliers_iqr(df, column):\n",
    "    Q1 = df[column].quantile(0.25)\n",
    "    Q3 = df[column].quantile(0.75)\n",
    "    IQR = Q3 - Q1\n",
    "    lower_bound = Q1 - 1.5 * IQR\n",
    "    upper_bound = Q3 + 1.5 * IQR\n",
    "    outliers = df[(df[column] < lower_bound) | (df[column] > upper_bound)][column]\n",
    "    return len(outliers)\n",
    "\n",
    "numeric_cols = df.select_dtypes(include=[np.number]).columns.drop('Potability')\n",
    "print(\"Outliers detectados por variable:\")\n",
    "for col in numeric_cols:\n",
    "    outliers = detect_outliers_iqr(df, col)\n",
    "    pct = (outliers / len(df.dropna(subset=[col]))) * 100\n",
    "    print(f\"  {col}: {outliers} ({pct:.2f}%)\")"
   ]
  },
  {
   "cell_type": "code",
   "execution_count": 10,
   "id": "433ae7e0",
   "metadata": {},
   "outputs": [
    {
     "name": "stdout",
     "output_type": "stream",
     "text": [
      "Correlación con variable objetivo (Potability):\n",
      "Potability         1.000000\n",
      "Solids             0.033743\n",
      "Chloramines        0.023779\n",
      "Trihalomethanes    0.007130\n",
      "Turbidity          0.001581\n",
      "ph                -0.003556\n",
      "Conductivity      -0.008128\n",
      "Hardness          -0.013837\n",
      "Sulfate           -0.023577\n",
      "Organic_carbon    -0.030001\n",
      "Name: Potability, dtype: float64\n"
     ]
    }
   ],
   "source": [
    "# 4. Consistencia - Correlaciones\n",
    "df_num = df.copy()\n",
    "correlation_matrix = df_num.corr()\n",
    "print(\"Correlación con variable objetivo (Potability):\")\n",
    "print(correlation_matrix['Potability'].sort_values(ascending=False))"
   ]
  },
  {
   "cell_type": "code",
   "execution_count": 11,
   "id": "5287c778",
   "metadata": {},
   "outputs": [
    {
     "name": "stdout",
     "output_type": "stream",
     "text": [
      "Registros duplicados: 0\n",
      "Porcentaje: 0.00%\n"
     ]
    }
   ],
   "source": [
    "# 5. Unicidad - Duplicados\n",
    "duplicados = df.duplicated().sum()\n",
    "print(f\"Registros duplicados: {duplicados}\")\n",
    "print(f\"Porcentaje: {(duplicados / len(df) * 100):.2f}%\")"
   ]
  },
  {
   "cell_type": "markdown",
   "id": "b90dd85e",
   "metadata": {},
   "source": [
    "# Diagnóstico por dimensiones de calidad de datos\n",
    "\n",
    "A partir del perfilado (`water_potability_profiling_report.html`) y de los análisis del notebook, el diagnóstico por dimensión es:\n",
    "\n",
    "- Completitud:\n",
    "  - Faltantes detectados: ph = 491 (14.99%), Sulfate = 781 (23.84%), Trihalomethanes = 162 (4.95%).\n",
    "  - Impacto: la variable Sulfate presenta un nivel alto de faltantes que puede sesgar el entrenamiento si no se trata.\n",
    "  - Acción: se imputa con la mediana para variables numéricas (implementado en la sección C. Limpieza), preservando la distribución y robusto a outliers.\n",
    "\n",
    "- Validez:\n",
    "  - No se detectaron valores negativos en variables numéricas (todas las variables reportan 0).\n",
    "  - Observación: según el perfilado, los rangos observados son plausibles para las magnitudes medidas; no se evidencian valores físicamente imposibles.\n",
    "\n",
    "- Precisión (Outliers):\n",
    "  - Por método IQR, los porcentajes de outliers por variable están en el rango ~0.3% a ~2.5% (p. ej., Hardness ≈ 2.53%, Chloramines ≈ 1.86%).\n",
    "  - Impacto: bajo a moderado; pueden afectar modelos sensibles a valores extremos.\n",
    "  - Acción: winsorización al 1% en cada cola (implementado en la sección C) para atenuar extremos sin eliminar observaciones.\n",
    "\n",
    "- Consistencia:\n",
    "  - Correlación con la variable objetivo (Potability) es débil para todas las variables (valores cercanos a 0), lo que sugiere relaciones no lineales o efectos combinados.\n",
    "  - Implicación: conviene evaluar modelos no lineales y con interacción/ensamble (como Random Forest, SVM, MLP), como se realiza en el notebook de minería.\n",
    "\n",
    "- Unicidad:\n",
    "  - Registros duplicados: 0 (0.00%).\n",
    "  - Sin acciones requeridas.\n",
    "\n",
    "Conclusión: tras imputación por mediana, winsorización al 1% y normalización, el dataset queda en condiciones adecuadas para modelado. Se recomienda mantener el reporte de perfilado junto a los datos como evidencia del estado de calidad."
   ]
  },
  {
   "cell_type": "markdown",
   "id": "ffe69f61",
   "metadata": {},
   "source": [
    "# C. LIMPIEZA Y MEJORA DE DATOS"
   ]
  },
  {
   "cell_type": "code",
   "execution_count": 12,
   "id": "b8a0ce62",
   "metadata": {},
   "outputs": [],
   "source": [
    "df_clean = df.copy()\n",
    "\n",
    "# 1. Eliminar duplicados\n",
    "df_clean = df_clean.drop_duplicates()\n",
    "\n",
    "# 2. Imputación de valores faltantes por mediana\n",
    "features = df_clean.drop('Potability', axis=1)\n",
    "target = df_clean['Potability']\n",
    "\n",
    "imputer = SimpleImputer(strategy='median')\n",
    "features_imputed = pd.DataFrame(\n",
    "    imputer.fit_transform(features),\n",
    "    columns=features.columns,\n",
    "    index=features.index\n",
    ")\n",
    "df_clean = pd.concat([features_imputed, target.reset_index(drop=True)], axis=1)"
   ]
  },
  {
   "cell_type": "code",
   "execution_count": 13,
   "id": "d95f3166",
   "metadata": {},
   "outputs": [],
   "source": [
    "# 3. Tratamiento de outliers con Winsorización\n",
    "features_winsorized = features_imputed.copy()\n",
    "\n",
    "for col in features_winsorized.columns:\n",
    "    features_winsorized[col] = winsorize(features_winsorized[col], limits=[0.01, 0.01])\n",
    "\n",
    "df_clean = pd.concat([features_winsorized, target.reset_index(drop=True)], axis=1)"
   ]
  },
  {
   "cell_type": "code",
   "execution_count": 14,
   "id": "68c787c8",
   "metadata": {},
   "outputs": [
    {
     "data": {
      "text/html": [
       "<div>\n",
       "<style scoped>\n",
       "    .dataframe tbody tr th:only-of-type {\n",
       "        vertical-align: middle;\n",
       "    }\n",
       "\n",
       "    .dataframe tbody tr th {\n",
       "        vertical-align: top;\n",
       "    }\n",
       "\n",
       "    .dataframe thead th {\n",
       "        text-align: right;\n",
       "    }\n",
       "</style>\n",
       "<table border=\"1\" class=\"dataframe\">\n",
       "  <thead>\n",
       "    <tr style=\"text-align: right;\">\n",
       "      <th></th>\n",
       "      <th>ph</th>\n",
       "      <th>Hardness</th>\n",
       "      <th>Solids</th>\n",
       "      <th>Chloramines</th>\n",
       "      <th>Sulfate</th>\n",
       "      <th>Conductivity</th>\n",
       "      <th>Organic_carbon</th>\n",
       "      <th>Trihalomethanes</th>\n",
       "      <th>Turbidity</th>\n",
       "      <th>Potability</th>\n",
       "    </tr>\n",
       "  </thead>\n",
       "  <tbody>\n",
       "    <tr>\n",
       "      <th>count</th>\n",
       "      <td>3.276000e+03</td>\n",
       "      <td>3.276000e+03</td>\n",
       "      <td>3.276000e+03</td>\n",
       "      <td>3.276000e+03</td>\n",
       "      <td>3.276000e+03</td>\n",
       "      <td>3.276000e+03</td>\n",
       "      <td>3.276000e+03</td>\n",
       "      <td>3.276000e+03</td>\n",
       "      <td>3.276000e+03</td>\n",
       "      <td>3276.000000</td>\n",
       "    </tr>\n",
       "    <tr>\n",
       "      <th>mean</th>\n",
       "      <td>-2.830459e-16</td>\n",
       "      <td>1.756836e-16</td>\n",
       "      <td>8.729959e-17</td>\n",
       "      <td>-3.426916e-16</td>\n",
       "      <td>-4.511382e-16</td>\n",
       "      <td>1.012350e-15</td>\n",
       "      <td>-6.105549e-16</td>\n",
       "      <td>-6.506802e-17</td>\n",
       "      <td>-3.361847e-16</td>\n",
       "      <td>0.390110</td>\n",
       "    </tr>\n",
       "    <tr>\n",
       "      <th>std</th>\n",
       "      <td>1.000153e+00</td>\n",
       "      <td>1.000153e+00</td>\n",
       "      <td>1.000153e+00</td>\n",
       "      <td>1.000153e+00</td>\n",
       "      <td>1.000153e+00</td>\n",
       "      <td>1.000153e+00</td>\n",
       "      <td>1.000153e+00</td>\n",
       "      <td>1.000153e+00</td>\n",
       "      <td>1.000153e+00</td>\n",
       "      <td>0.487849</td>\n",
       "    </tr>\n",
       "    <tr>\n",
       "      <th>min</th>\n",
       "      <td>-2.567135e+00</td>\n",
       "      <td>-2.567041e+00</td>\n",
       "      <td>-1.948376e+00</td>\n",
       "      <td>-2.549040e+00</td>\n",
       "      <td>-2.796085e+00</td>\n",
       "      <td>-1.969739e+00</td>\n",
       "      <td>-2.432843e+00</td>\n",
       "      <td>-2.469664e+00</td>\n",
       "      <td>-2.372070e+00</td>\n",
       "      <td>0.000000</td>\n",
       "    </tr>\n",
       "    <tr>\n",
       "      <th>25%</th>\n",
       "      <td>-5.626020e-01</td>\n",
       "      <td>-6.071516e-01</td>\n",
       "      <td>-7.349369e-01</td>\n",
       "      <td>-6.452571e-01</td>\n",
       "      <td>-4.741454e-01</td>\n",
       "      <td>-7.585094e-01</td>\n",
       "      <td>-6.819286e-01</td>\n",
       "      <td>-6.353240e-01</td>\n",
       "      <td>-6.873540e-01</td>\n",
       "      <td>0.000000</td>\n",
       "    </tr>\n",
       "    <tr>\n",
       "      <th>50%</th>\n",
       "      <td>-2.735821e-02</td>\n",
       "      <td>1.848534e-02</td>\n",
       "      <td>-1.230703e-01</td>\n",
       "      <td>5.823386e-03</td>\n",
       "      <td>-1.665532e-02</td>\n",
       "      <td>-5.292395e-02</td>\n",
       "      <td>-1.975635e-02</td>\n",
       "      <td>1.243925e-02</td>\n",
       "      <td>-1.493290e-02</td>\n",
       "      <td>0.000000</td>\n",
       "    </tr>\n",
       "    <tr>\n",
       "      <th>75%</th>\n",
       "      <td>5.602185e-01</td>\n",
       "      <td>6.311456e-01</td>\n",
       "      <td>6.218175e-01</td>\n",
       "      <td>6.450297e-01</td>\n",
       "      <td>4.790083e-01</td>\n",
       "      <td>6.998690e-01</td>\n",
       "      <td>6.998730e-01</td>\n",
       "      <td>6.647025e-01</td>\n",
       "      <td>6.966024e-01</td>\n",
       "      <td>1.000000</td>\n",
       "    </tr>\n",
       "    <tr>\n",
       "      <th>max</th>\n",
       "      <td>2.638764e+00</td>\n",
       "      <td>2.541107e+00</td>\n",
       "      <td>2.801798e+00</td>\n",
       "      <td>2.518076e+00</td>\n",
       "      <td>2.731109e+00</td>\n",
       "      <td>2.409985e+00</td>\n",
       "      <td>2.402369e+00</td>\n",
       "      <td>2.484052e+00</td>\n",
       "      <td>2.326732e+00</td>\n",
       "      <td>1.000000</td>\n",
       "    </tr>\n",
       "  </tbody>\n",
       "</table>\n",
       "</div>"
      ],
      "text/plain": [
       "                 ph      Hardness        Solids   Chloramines       Sulfate  \\\n",
       "count  3.276000e+03  3.276000e+03  3.276000e+03  3.276000e+03  3.276000e+03   \n",
       "mean  -2.830459e-16  1.756836e-16  8.729959e-17 -3.426916e-16 -4.511382e-16   \n",
       "std    1.000153e+00  1.000153e+00  1.000153e+00  1.000153e+00  1.000153e+00   \n",
       "min   -2.567135e+00 -2.567041e+00 -1.948376e+00 -2.549040e+00 -2.796085e+00   \n",
       "25%   -5.626020e-01 -6.071516e-01 -7.349369e-01 -6.452571e-01 -4.741454e-01   \n",
       "50%   -2.735821e-02  1.848534e-02 -1.230703e-01  5.823386e-03 -1.665532e-02   \n",
       "75%    5.602185e-01  6.311456e-01  6.218175e-01  6.450297e-01  4.790083e-01   \n",
       "max    2.638764e+00  2.541107e+00  2.801798e+00  2.518076e+00  2.731109e+00   \n",
       "\n",
       "       Conductivity  Organic_carbon  Trihalomethanes     Turbidity  \\\n",
       "count  3.276000e+03    3.276000e+03     3.276000e+03  3.276000e+03   \n",
       "mean   1.012350e-15   -6.105549e-16    -6.506802e-17 -3.361847e-16   \n",
       "std    1.000153e+00    1.000153e+00     1.000153e+00  1.000153e+00   \n",
       "min   -1.969739e+00   -2.432843e+00    -2.469664e+00 -2.372070e+00   \n",
       "25%   -7.585094e-01   -6.819286e-01    -6.353240e-01 -6.873540e-01   \n",
       "50%   -5.292395e-02   -1.975635e-02     1.243925e-02 -1.493290e-02   \n",
       "75%    6.998690e-01    6.998730e-01     6.647025e-01  6.966024e-01   \n",
       "max    2.409985e+00    2.402369e+00     2.484052e+00  2.326732e+00   \n",
       "\n",
       "        Potability  \n",
       "count  3276.000000  \n",
       "mean      0.390110  \n",
       "std       0.487849  \n",
       "min       0.000000  \n",
       "25%       0.000000  \n",
       "50%       0.000000  \n",
       "75%       1.000000  \n",
       "max       1.000000  "
      ]
     },
     "execution_count": 14,
     "metadata": {},
     "output_type": "execute_result"
    }
   ],
   "source": [
    "# 4. Normalización con StandardScaler\n",
    "scaler = StandardScaler()\n",
    "features_scaled = pd.DataFrame(\n",
    "    scaler.fit_transform(features_winsorized),\n",
    "    columns=features_winsorized.columns,\n",
    "    index=features_winsorized.index\n",
    ")\n",
    "\n",
    "df_final = pd.concat([features_scaled, target.reset_index(drop=True)], axis=1)\n",
    "df_final.describe()"
   ]
  },
  {
   "cell_type": "code",
   "execution_count": null,
   "id": "2dbaeb2b",
   "metadata": {},
   "outputs": [],
   "source": [
    "# 5. Guardar datos limpios\n",
    "df_clean_final = pd.concat([features_winsorized, target.reset_index(drop=True)], axis=1)\n",
    "df_clean_final.to_csv('water_potability_cleaned.csv', index=False) # Sin normalización\n",
    "df_final.to_csv('water_potability_scaled.csv', index=False) # Con normalización"
   ]
  }
 ],
 "metadata": {
  "kernelspec": {
   "display_name": ".venv",
   "language": "python",
   "name": "python3"
  },
  "language_info": {
   "codemirror_mode": {
    "name": "ipython",
    "version": 3
   },
   "file_extension": ".py",
   "mimetype": "text/x-python",
   "name": "python",
   "nbconvert_exporter": "python",
   "pygments_lexer": "ipython3",
   "version": "3.13.7"
  }
 },
 "nbformat": 4,
 "nbformat_minor": 5
}
