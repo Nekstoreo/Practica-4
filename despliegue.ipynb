{
 "cells": [
  {
   "cell_type": "markdown",
   "id": "4980c3ee",
   "metadata": {},
   "source": [
    "# DESPLIEGUE DEL MODELO\n",
    "## Predicción de Potabilidad del Agua\n",
    "\n",
    "**Pasos:**\n",
    "1. Cargar el modelo entrenado\n",
    "2. Crear interfaz gráfica con Streamlit\n",
    "3. Capturar parámetros del agua\n",
    "4. Realizar predicción"
   ]
  },
  {
   "cell_type": "code",
   "execution_count": 1,
   "id": "681681d9",
   "metadata": {},
   "outputs": [],
   "source": [
    "import pandas as pd\n",
    "import numpy as np\n",
    "import pickle\n",
    "import streamlit as st\n",
    "from sklearn.preprocessing import StandardScaler"
   ]
  },
  {
   "cell_type": "markdown",
   "id": "fdd28a5c",
   "metadata": {},
   "source": [
    "# 1. CARGAR MODELO"
   ]
  },
  {
   "cell_type": "code",
   "execution_count": null,
   "id": "b3548029",
   "metadata": {},
   "outputs": [],
   "source": [
    "# Cargar modelo e información\n",
    "with open('best_water_potability_model.pkl', 'rb') as file:\n",
    "    modelo = pickle.load(file)\n",
    "\n",
    "with open('model_info.pkl', 'rb') as file:\n",
    "    model_info = pickle.load(file)\n",
    "\n",
    "# Obtener nombres de características\n",
    "feature_names = model_info['feature_names']\n",
    "print(f\"Modelo cargado: {model_info['nombre']}\")\n",
    "print(f\"\\nCaracterísticas requeridas: {feature_names}\")"
   ]
  },
  {
   "cell_type": "markdown",
   "id": "b30f0f52",
   "metadata": {},
   "source": [
    "# 2. INTERFAZ GRÁFICA CON STREAMLIT"
   ]
  },
  {
   "cell_type": "code",
   "execution_count": null,
   "id": "35eac7b9",
   "metadata": {},
   "outputs": [],
   "source": [
    "st.title('🚰 Predicción de Potabilidad del Agua')\n",
    "st.write('Ingrese los parámetros fisicoquímicos del agua para determinar si es potable')\n",
    "\n",
    "st.header('Parámetros del Agua')\n",
    "\n",
    "# Captura de datos con rangos típicos\n",
    "ph = st.slider('pH (acidez/alcalinidad)', min_value=0.0, max_value=14.0, value=7.0, step=0.1)\n",
    "hardness = st.number_input('Hardness (Dureza) [mg/L]', min_value=0.0, max_value=500.0, value=200.0, step=10.0)\n",
    "solids = st.number_input('Solids (Sólidos disueltos) [ppm]', min_value=0.0, max_value=50000.0, value=20000.0, step=100.0)\n",
    "chloramines = st.slider('Chloramines (Cloraminas) [ppm]', min_value=0.0, max_value=10.0, value=4.0, step=0.1)\n",
    "sulfate = st.number_input('Sulfate (Sulfato) [mg/L]', min_value=0.0, max_value=500.0, value=250.0, step=10.0)\n",
    "conductivity = st.number_input('Conductivity (Conductividad) [µS/cm]', min_value=0.0, max_value=1000.0, value=400.0, step=10.0)\n",
    "organic_carbon = st.slider('Organic Carbon (Carbono orgánico) [ppm]', min_value=0.0, max_value=50.0, value=10.0, step=0.5)\n",
    "trihalomethanes = st.slider('Trihalomethanes (Trihalometanos) [µg/L]', min_value=0.0, max_value=200.0, value=60.0, step=5.0)\n",
    "turbidity = st.slider('Turbidity (Turbidez) [NTU]', min_value=0.0, max_value=10.0, value=3.0, step=0.1)\n",
    "\n",
    "# Crear dataframe con los datos capturados\n",
    "datos = [[\n",
    "    ph, hardness, solids, chloramines, sulfate, \n",
    "    conductivity, organic_carbon, trihalomethanes, turbidity\n",
    "]]\n",
    "\n",
    "data = pd.DataFrame(datos, columns=feature_names)\n",
    "st.write('### Datos capturados:')\n",
    "st.dataframe(data)"
   ]
  },
  {
   "cell_type": "markdown",
   "id": "32383672",
   "metadata": {},
   "source": [
    "# 3. PREPARACIÓN DE DATOS"
   ]
  },
  {
   "cell_type": "code",
   "execution_count": null,
   "id": "b0fa9e78",
   "metadata": {},
   "outputs": [],
   "source": [
    "# Normalizar datos (igual que en el entrenamiento)\n",
    "scaler = StandardScaler()\n",
    "\n",
    "# Como no tenemos el scaler original, normalizamos manualmente\n",
    "# Los datos ya fueron escalados en el entrenamiento, así que aquí\n",
    "# aplicamos la misma transformación\n",
    "\n",
    "# Nota: En producción real, guardaríamos el scaler junto con el modelo\n",
    "data_preparada = data.copy()\n",
    "\n",
    "# Para este ejemplo, asumimos que los datos están en escala original\n",
    "# y aplicamos StandardScaler\n",
    "data_preparada = pd.DataFrame(\n",
    "    scaler.fit_transform(data_preparada),\n",
    "    columns=feature_names\n",
    ")\n",
    "\n",
    "st.write('### Datos normalizados:')\n",
    "st.dataframe(data_preparada)"
   ]
  },
  {
   "cell_type": "markdown",
   "id": "f67d5d62",
   "metadata": {},
   "source": [
    "# 4. PREDICCIÓN"
   ]
  },
  {
   "cell_type": "code",
   "execution_count": null,
   "id": "404357b0",
   "metadata": {},
   "outputs": [],
   "source": [
    "# Botón para realizar predicción\n",
    "if st.button('🔍 Predecir Potabilidad', type='primary'):\n",
    "    \n",
    "    # Realizar predicción\n",
    "    prediccion = modelo.predict(data_preparada)[0]\n",
    "    probabilidad = modelo.predict_proba(data_preparada)[0]\n",
    "    \n",
    "    st.write('---')\n",
    "    st.header('📊 Resultado de la Predicción')\n",
    "    \n",
    "    # Mostrar resultado\n",
    "    if prediccion == 1:\n",
    "        st.success('✅ AGUA POTABLE')\n",
    "        st.write(f'El agua **ES POTABLE** según el modelo {model_info[\"nombre\"]}')\n",
    "    else:\n",
    "        st.error('❌ AGUA NO POTABLE')\n",
    "        st.write(f'El agua **NO ES POTABLE** según el modelo {model_info[\"nombre\"]}')\n",
    "    \n",
    "    # Mostrar probabilidades\n",
    "    st.write('### Probabilidades:')\n",
    "    col1, col2 = st.columns(2)\n",
    "    with col1:\n",
    "        st.metric('No Potable', f'{probabilidad[0]:.2%}')\n",
    "    with col2:\n",
    "        st.metric('Potable', f'{probabilidad[1]:.2%}')\n",
    "    \n",
    "    # Mostrar métricas del modelo\n",
    "    st.write('### Métricas del Modelo:')\n",
    "    metricas = model_info['metricas']\n",
    "    col1, col2, col3 = st.columns(3)\n",
    "    with col1:\n",
    "        st.metric('Accuracy', f\"{metricas['accuracy']:.3f}\")\n",
    "        st.metric('Precision', f\"{metricas['precision']:.3f}\")\n",
    "    with col2:\n",
    "        st.metric('Recall', f\"{metricas['recall']:.3f}\")\n",
    "        st.metric('F1-Score', f\"{metricas['f1_score']:.3f}\")\n",
    "    with col3:\n",
    "        st.metric('ROC-AUC', f\"{metricas['roc_auc']:.3f}\")\n",
    "    \n",
    "    # Mostrar hiperparámetros\n",
    "    with st.expander('⚙️ Ver Hiperparámetros del Modelo'):\n",
    "        st.json(model_info['hiperparametros'])\n",
    "    \n",
    "    # Advertencia\n",
    "    st.warning('⚠️ Esta predicción es solo una estimación basada en Machine Learning. '\n",
    "               'Para consumo humano, siempre realice análisis de laboratorio certificados.')"
   ]
  },
  {
   "cell_type": "markdown",
   "id": "4f68f7a5",
   "metadata": {},
   "source": [
    "# 5. INFORMACIÓN ADICIONAL"
   ]
  },
  {
   "cell_type": "code",
   "execution_count": null,
   "id": "527976f9",
   "metadata": {},
   "outputs": [],
   "source": [
    "st.write('---')\n",
    "st.write('### 📋 Rangos de Referencia (WHO/EPA):')\n",
    "\n",
    "referencias = pd.DataFrame({\n",
    "    'Parámetro': ['pH', 'Hardness', 'Solids', 'Chloramines', 'Sulfate', \n",
    "                  'Conductivity', 'Organic Carbon', 'Trihalomethanes', 'Turbidity'],\n",
    "    'Rango Seguro': [\n",
    "        '6.5 - 8.5',\n",
    "        '0 - 500 mg/L',\n",
    "        '0 - 1000 ppm',\n",
    "        '0 - 4 ppm',\n",
    "        '0 - 500 mg/L',\n",
    "        '0 - 400 µS/cm',\n",
    "        '0 - 4 ppm',\n",
    "        '0 - 80 µg/L',\n",
    "        '0 - 5 NTU'\n",
    "    ]\n",
    "})\n",
    "\n",
    "st.dataframe(referencias, use_container_width=True)"
   ]
  }
 ],
 "metadata": {
  "kernelspec": {
   "display_name": ".venv",
   "language": "python",
   "name": "python3"
  },
  "language_info": {
   "codemirror_mode": {
    "name": "ipython",
    "version": 3
   },
   "file_extension": ".py",
   "mimetype": "text/x-python",
   "name": "python",
   "nbconvert_exporter": "python",
   "pygments_lexer": "ipython3",
   "version": "3.13.7"
  }
 },
 "nbformat": 4,
 "nbformat_minor": 5
}
